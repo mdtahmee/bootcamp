{
  "nbformat": 4,
  "nbformat_minor": 0,
  "metadata": {
    "colab": {
      "provenance": []
    },
    "kernelspec": {
      "name": "python3",
      "display_name": "Python 3"
    },
    "language_info": {
      "name": "python"
    }
  },
  "cells": [
    {
      "cell_type": "markdown",
      "source": [
        "Assignment 1\n",
        "NAME : MD TAHMEED\n",
        "SID : 105270"
      ],
      "metadata": {
        "id": "AydmvlZ_ZajJ"
      }
    },
    {
      "cell_type": "markdown",
      "source": [
        "1. Convert a string to a zigzag pattern on a given number of rows and then read it row by row.\n",
        "   - Input: s = \"PAYPALISHIRING\", numRows = 3\n"
      ],
      "metadata": {
        "id": "ibtOderrUL4l"
      }
    },
    {
      "cell_type": "code",
      "source": [
        "def convert(s, numRows):\n",
        " if numRows == 1 or numRows >= len(s):\n",
        "     return s\n",
        " rows = [''] * numRows\n",
        " cur_row, going_down = 0, False\n",
        "\n",
        " for char in s:\n",
        "     rows[cur_row] += char\n",
        "     if cur_row == 0 or cur_row == numRows - 1:\n",
        "         going_down = not going_down\n",
        "     cur_row += 1 if going_down else -1\n",
        "\n",
        " return ''.join(rows)\n",
        "\n",
        "# Example\n",
        "s = \"PAYPALISHIRING\"\n",
        "numRows = 3\n",
        "print(convert(s, numRows))\n"
      ],
      "metadata": {
        "colab": {
          "base_uri": "https://localhost:8080/"
        },
        "id": "tdHhVuIWUMfU",
        "outputId": "7a40874d-5071-48e9-b18a-299295a76bab"
      },
      "execution_count": null,
      "outputs": [
        {
          "output_type": "stream",
          "name": "stdout",
          "text": [
            "PAHNAPLSIIGYIR\n"
          ]
        }
      ]
    },
    {
      "cell_type": "markdown",
      "source": [
        "2. Implement a method to perform basic string compression using the counts of repeated characters.\n",
        "   - Input: \"aabcccccaaa\"\n"
      ],
      "metadata": {
        "id": "y7jIHOVvURFw"
      }
    },
    {
      "cell_type": "code",
      "source": [
        "def compress_string(s):\n",
        " compressed = []\n",
        " count = 1\n",
        "\n",
        " for i in range(1, len(s)):\n",
        "     if s[i] == s[i - 1]:\n",
        "         count += 1\n",
        "     else:\n",
        "         compressed.append(s[i - 1] + str(count))\n",
        "         count = 1\n",
        " compressed.append(s[-1] + str(count))\n",
        "\n",
        " compressed_s = ''.join(compressed)\n",
        " return compressed_s if len(compressed_s) < len(s) else s\n",
        "\n",
        "# Example\n",
        "s = \"aabcccccaaa\"\n",
        "print(compress_string(s))\n"
      ],
      "metadata": {
        "colab": {
          "base_uri": "https://localhost:8080/"
        },
        "id": "SN2zTrP_URsn",
        "outputId": "ebefcf01-b90a-4316-87ae-bba2c8207cc4"
      },
      "execution_count": null,
      "outputs": [
        {
          "output_type": "stream",
          "name": "stdout",
          "text": [
            "a2b1c5a3\n"
          ]
        }
      ]
    },
    {
      "cell_type": "markdown",
      "source": [
        "3. Write a function that generates all possible permutations of a given string.\n",
        "   - Input: \"ABC\"\n",
        "\n",
        "\n",
        "```\n",
        "\n",
        "```\n",
        "\n"
      ],
      "metadata": {
        "id": "F_XpHWeQUW3C"
      }
    },
    {
      "cell_type": "code",
      "source": [
        "from itertools import permutations\n",
        "\n",
        "def string_permutations(s):\n",
        " return [''.join(p) for p in permutations(s)]\n",
        "\n",
        "# Example\n",
        "s = \"ABC\"\n",
        "print(string_permutations(s))"
      ],
      "metadata": {
        "colab": {
          "base_uri": "https://localhost:8080/"
        },
        "id": "m4g9TujvUZLp",
        "outputId": "56257059-e807-4f4f-ccba-a78a1cb3c121"
      },
      "execution_count": null,
      "outputs": [
        {
          "output_type": "stream",
          "name": "stdout",
          "text": [
            "['ABC', 'ACB', 'BAC', 'BCA', 'CAB', 'CBA']\n"
          ]
        }
      ]
    },
    {
      "cell_type": "markdown",
      "source": [
        "4. Given an array of strings, group anagrams together.\n",
        "   - Input: [\"eat\", \"tea\", \"tan\", \"ate\", \"nat\", \"bat\"]\n"
      ],
      "metadata": {
        "id": "Ca-bFOLsUdNi"
      }
    },
    {
      "cell_type": "code",
      "source": [
        "from collections import defaultdict\n",
        "\n",
        "def group_anagrams(strs):\n",
        " anagrams = defaultdict(list)\n",
        "\n",
        " for word in strs:\n",
        "     sorted_word = ''.join(sorted(word))\n",
        "     anagrams[sorted_word].append(word)\n",
        "\n",
        " return list(anagrams.values())\n",
        "\n",
        "# Example\n",
        "strs = [\"eat\", \"tea\", \"tan\", \"ate\", \"nat\", \"bat\"]\n",
        "print(group_anagrams(strs))"
      ],
      "metadata": {
        "colab": {
          "base_uri": "https://localhost:8080/"
        },
        "id": "mhg2LgtgUfhs",
        "outputId": "93d19d57-068a-4693-92d2-06b94cf141ad"
      },
      "execution_count": null,
      "outputs": [
        {
          "output_type": "stream",
          "name": "stdout",
          "text": [
            "[['eat', 'tea', 'ate'], ['tan', 'nat'], ['bat']]\n"
          ]
        }
      ]
    },
    {
      "cell_type": "markdown",
      "source": [
        "5. Write a function to multiply two large numbers represented as strings.\n",
        "   - Input: num1 = \"123\", num2 = \"456\"\n"
      ],
      "metadata": {
        "id": "gXEQN1UxUjA4"
      }
    },
    {
      "cell_type": "code",
      "source": [
        "def multiply(num1, num2):\n",
        " return str(int(num1) * int(num2))\n",
        "\n",
        "# Example\n",
        "num1 = \"123\"\n",
        "num2 = \"456\"\n",
        "print(multiply(num1, num2))\n"
      ],
      "metadata": {
        "colab": {
          "base_uri": "https://localhost:8080/"
        },
        "id": "RAOzuuHeUmgJ",
        "outputId": "6e785313-63b1-4b42-d4a2-f44dfe8f4e5d"
      },
      "execution_count": null,
      "outputs": [
        {
          "output_type": "stream",
          "name": "stdout",
          "text": [
            "56088\n"
          ]
        }
      ]
    },
    {
      "cell_type": "markdown",
      "source": [
        "6. Given two strings, check if one is a rotation of the other using only one call to a string method.\n",
        "   - Input: str1 = \"ABCD\", str2 = \"DABC\"\n"
      ],
      "metadata": {
        "id": "NmmyeM01UrQf"
      }
    },
    {
      "cell_type": "code",
      "source": [
        "def is_rotation(str1, str2):\n",
        " if len(str1) != len(str2):\n",
        "     return False\n",
        " return str2 in str1 + str1\n",
        "\n",
        "# Example\n",
        "str1 = \"ABCD\"\n",
        "str2 = \"DABC\"\n",
        "print(is_rotation(str1, str2))\n"
      ],
      "metadata": {
        "colab": {
          "base_uri": "https://localhost:8080/"
        },
        "id": "UuC7Hw89UrtS",
        "outputId": "66454d55-e89b-4dac-dfa4-70459d699259"
      },
      "execution_count": null,
      "outputs": [
        {
          "output_type": "stream",
          "name": "stdout",
          "text": [
            "True\n"
          ]
        }
      ]
    },
    {
      "cell_type": "markdown",
      "source": [
        "7. Given a string containing just the characters (, ), {, }, [, and ], determine if the input string is valid.\n",
        "   - Input: \"()[]{}\"\n"
      ],
      "metadata": {
        "id": "IaAiqKW7UvW4"
      }
    },
    {
      "cell_type": "code",
      "source": [
        "def is_valid(s):\n",
        " stack = []\n",
        " mapping = {')': '(', '}': '{', ']': '['}\n",
        "\n",
        " for char in s:\n",
        "     if char in mapping:\n",
        "         top_element = stack.pop() if stack else '#'\n",
        "         if mapping[char] != top_element:\n",
        "             return False\n",
        "     else:\n",
        "         stack.append(char)\n",
        "\n",
        " return not stack\n",
        "\n",
        "# Example\n",
        "s = \"()[]{}\"\n",
        "print(is_valid(s))\n"
      ],
      "metadata": {
        "colab": {
          "base_uri": "https://localhost:8080/"
        },
        "id": "4Z4tMg9-Ux3K",
        "outputId": "3dbfb5cc-c3c5-4387-c66c-168629cd9fbf"
      },
      "execution_count": null,
      "outputs": [
        {
          "output_type": "stream",
          "name": "stdout",
          "text": [
            "True\n"
          ]
        }
      ]
    },
    {
      "cell_type": "markdown",
      "source": [
        "8. Implement the function atoi which converts a string to an integer.\n",
        "   - Input: \"4193 with words\"\n"
      ],
      "metadata": {
        "id": "TYtgvn77U5ae"
      }
    },
    {
      "cell_type": "code",
      "source": [
        "def my_atoi(s):\n",
        " s = s.strip()\n",
        " if not s:\n",
        "     return 0\n",
        "\n",
        " negative = False\n",
        " if s[0] in ('-', '+'):\n",
        "     if s[0] == '-':\n",
        "         negative = True\n",
        "     s = s[1:]\n",
        "\n",
        " result, i = 0, 0\n",
        " while i < len(s) and s[i].isdigit():\n",
        "     result = result * 10 + int(s[i])\n",
        "     i += 1\n",
        "\n",
        " result = -result if negative else result\n",
        " return max(min(result, 2**31 - 1), -2**31)\n",
        "\n",
        "# Example\n",
        "s = \"4193 with words\"\n",
        "print(my_atoi(s))\n"
      ],
      "metadata": {
        "colab": {
          "base_uri": "https://localhost:8080/"
        },
        "id": "ru0WZRuKU53x",
        "outputId": "f49973fd-d5b5-47a7-9a5a-07350007b910"
      },
      "execution_count": null,
      "outputs": [
        {
          "output_type": "stream",
          "name": "stdout",
          "text": [
            "4193\n"
          ]
        }
      ]
    },
    {
      "cell_type": "markdown",
      "source": [
        "9. Write a function that generates the nth term of the \"count and say\" sequence.\n",
        "   - Input: n = 4\n"
      ],
      "metadata": {
        "id": "g6ffIZnKU-eA"
      }
    },
    {
      "cell_type": "code",
      "source": [
        "def count_and_say(n):\n",
        " if n == 1:\n",
        "     return \"1\"\n",
        " prev = count_and_say(n - 1)\n",
        " result, count = \"\", 1\n",
        "\n",
        " for i in range(1, len(prev)):\n",
        "     if prev[i] == prev[i - 1]:\n",
        "         count += 1\n",
        "     else:\n",
        "         result += str(count) + prev[i - 1]\n",
        "         count = 1\n",
        " result += str(count) + prev[-1]\n",
        " return result\n",
        "\n",
        "# Example\n",
        "n = 4\n",
        "print(count_and_say(n))\n"
      ],
      "metadata": {
        "colab": {
          "base_uri": "https://localhost:8080/"
        },
        "id": "Tb5IPXQWU-2b",
        "outputId": "c46a8842-1d86-47c3-b1d4-6996626a6a10"
      },
      "execution_count": null,
      "outputs": [
        {
          "output_type": "stream",
          "name": "stdout",
          "text": [
            "1211\n"
          ]
        }
      ]
    },
    {
      "cell_type": "markdown",
      "source": [
        "10. Given two strings s and t, return the minimum window in s which will contain all the characters in t.\n",
        "   - Input: s = \"ADOBECODEBANC\", t = \"ABC\"\n"
      ],
      "metadata": {
        "id": "aPaS2o53VDts"
      }
    },
    {
      "cell_type": "code",
      "source": [
        "from collections import Counter\n",
        "\n",
        "def min_window(s, t):\n",
        " if not s or not t:\n",
        "     return \"\"\n",
        "\n",
        " dict_t = Counter(t)\n",
        " required = len(dict_t)\n",
        " left, right = 0, 0\n",
        " formed = 0\n",
        " window_counts = {}\n",
        " ans = float('inf'), None, None\n",
        "\n",
        " while right < len(s):\n",
        "     char = s[right]\n",
        "     window_counts[char] = window_counts.get(char, 0) + 1\n",
        "\n",
        "     if char in dict_t and window_counts[char] == dict_t[char]:\n",
        "         formed += 1\n",
        "\n",
        "     while left <= right and formed == required:\n",
        "         char = s[left]\n",
        "         if right - left + 1 < ans[0]:\n",
        "             ans = (right - left + 1, left, right)\n",
        "\n",
        "         window_counts[char] -= 1\n",
        "         if char in dict_t and window_counts[char] < dict_t[char]:\n",
        "             formed -= 1\n",
        "         left += 1\n",
        "\n",
        "     right += 1\n",
        "\n",
        " return \"\" if ans[0] == float('inf') else s[ans[1]: ans[2] + 1]\n",
        "\n",
        "# Example\n",
        "s = \"ADOBECODEBANC\"\n",
        "t = \"ABC\"\n",
        "print(min_window(s, t))\n"
      ],
      "metadata": {
        "colab": {
          "base_uri": "https://localhost:8080/"
        },
        "id": "2nhjx-DJVEL-",
        "outputId": "308e5f25-5ba7-4f9b-b931-3102faeef283"
      },
      "execution_count": null,
      "outputs": [
        {
          "output_type": "stream",
          "name": "stdout",
          "text": [
            "BANC\n"
          ]
        }
      ]
    },
    {
      "cell_type": "markdown",
      "source": [
        "11. Given a string, find the length of the longest substring without repeating characters.\n",
        "   - Input: \"abcabcbb\"\n"
      ],
      "metadata": {
        "id": "4l5r8XheVJNG"
      }
    },
    {
      "cell_type": "code",
      "source": [
        "def length_of_longest_substring(s):\n",
        " char_index = {}\n",
        " left = 0\n",
        " max_len = 0\n",
        "\n",
        " for right in range(len(s)):\n",
        "     if s[right] in char_index and char_index[s[right]] >= left:\n",
        "         left = char_index[s[right]] + 1\n",
        "     char_index[s[right]] = right\n",
        "     max_len = max(max_len, right - left + 1)\n",
        "\n",
        " return max_len\n",
        "\n",
        "# Example\n",
        "s = \"abcabcbb\"\n",
        "print(length_of_longest_substring(s))\n"
      ],
      "metadata": {
        "colab": {
          "base_uri": "https://localhost:8080/"
        },
        "id": "xXx1H4GlVLPg",
        "outputId": "9ff0e31c-3016-4bae-f66c-0ac1c1129d54"
      },
      "execution_count": null,
      "outputs": [
        {
          "output_type": "stream",
          "name": "stdout",
          "text": [
            "3\n"
          ]
        }
      ]
    },
    {
      "cell_type": "markdown",
      "source": [
        "12. Given three strings s1, s2, and s3, determine if s3 is formed by the interleaving of s1 and s2.\n",
        "   - Input: s1 = \"aabcc\", s2 = \"dbbca\", s3 = \"aadbbcbcac\"\n"
      ],
      "metadata": {
        "id": "bkZBE2CIVQfp"
      }
    },
    {
      "cell_type": "code",
      "source": [
        "def is_interleave(s1, s2, s3):\n",
        " if len(s1) + len(s2) != len(s3):\n",
        "     return False\n",
        "\n",
        " dp = [[False] * (len(s2) + 1) for _ in range(len(s1) + 1)]\n",
        " dp[0][0] = True\n",
        "\n",
        " for i in range(1, len(s1) + 1):\n",
        "     dp[i][0] = dp[i - 1][0] and s1[i - 1] == s3[i - 1]\n",
        "\n",
        " for j in range(1, len(s2) + 1):\n",
        "     dp[0][j] = dp[0][j - 1] and s2[j - 1] == s3[j - 1]\n",
        "\n",
        " for i in range(1, len(s1) + 1):\n",
        "     for j in range(1, len(s2) + 1):\n",
        "         dp[i][j] = (dp[i - 1][j] and s1[i - 1] == s3[i + j - 1]) or (dp[i][j - 1] and s2[j - 1] == s3[i + j - 1])\n",
        "\n",
        " return dp[-1][-1]\n",
        "\n",
        "# Example\n",
        "s1 = \"aabcc\"\n",
        "s2 = \"dbbca\"\n",
        "s3 = \"aadbbcbcac\"\n",
        "print(is_interleave(s1, s2, s3))\n"
      ],
      "metadata": {
        "colab": {
          "base_uri": "https://localhost:8080/"
        },
        "id": "uUZBhJ6PVQ_R",
        "outputId": "e5f8e94d-b552-4ee4-a6de-78d0517ba72b"
      },
      "execution_count": null,
      "outputs": [
        {
          "output_type": "stream",
          "name": "stdout",
          "text": [
            "True\n"
          ]
        }
      ]
    },
    {
      "cell_type": "markdown",
      "source": [
        "13. Write a function to convert a Roman numeral to an integer.\n",
        "   - Input: \"MCMXCIV\"\n"
      ],
      "metadata": {
        "id": "ig7OMf3TVV5j"
      }
    },
    {
      "cell_type": "code",
      "source": [
        "def roman_to_int(s):\n",
        " roman = {'I': 1, 'V': 5, 'X': 10, 'L': 50, 'C': 100, 'D': 500, 'M': 1000}\n",
        " total = 0\n",
        "\n",
        " for i in range(len(s)):\n",
        "     if i > 0 and roman[s[i]] > roman[s[i - 1]]:\n",
        "         total += roman[s[i]] - 2 * roman[s[i - 1]]\n",
        "     else:\n",
        "         total += roman[s[i]]\n",
        "\n",
        " return total\n",
        "\n",
        "# Example\n",
        "s = \"MCMXCIV\"\n",
        "print(roman_to_int(s))\n"
      ],
      "metadata": {
        "colab": {
          "base_uri": "https://localhost:8080/"
        },
        "id": "CklAkS6EVWSF",
        "outputId": "5fc3d850-6c63-4c31-cf91-f20bd835ef76"
      },
      "execution_count": null,
      "outputs": [
        {
          "output_type": "stream",
          "name": "stdout",
          "text": [
            "1994\n"
          ]
        }
      ]
    },
    {
      "cell_type": "markdown",
      "source": [
        "14. Find the longest common substring between two strings.\n",
        "   - Input: str1 = \"ABABC\", str2 = \"BABCA\"\n"
      ],
      "metadata": {
        "id": "8ENZ_jrWX_7P"
      }
    },
    {
      "cell_type": "code",
      "source": [
        "def longest_common_substring(str1, str2):\n",
        "    m, n = len(str1), len(str2)\n",
        "    dp = [[0] * (n + 1) for _ in range(m + 1)]\n",
        "    max_len = 0\n",
        "    end_pos = 0\n",
        "\n",
        "    for i in range(1, m + 1):\n",
        "        for j in range(1, n + 1):\n",
        "            if str1[i - 1] == str2[j - 1]:\n",
        "                dp[i][j] = dp[i - 1][j - 1] + 1\n",
        "                if dp[i][j] > max_len:\n",
        "                    max_len = dp[i][j]\n",
        "                    end_pos = i\n",
        "\n",
        "    return str1[end_pos - max_len:end_pos]\n",
        "\n",
        "# Example\n",
        "str1 = \"ABABC\"\n",
        "str2 = \"BABCA\"\n",
        "print(longest_common_substring(str1, str2))\n"
      ],
      "metadata": {
        "colab": {
          "base_uri": "https://localhost:8080/"
        },
        "id": "yq-f8RjmYE9X",
        "outputId": "e356a56c-06e8-41b5-e0e8-d8b053f1ae3e"
      },
      "execution_count": null,
      "outputs": [
        {
          "output_type": "stream",
          "name": "stdout",
          "text": [
            "BABC\n"
          ]
        }
      ]
    },
    {
      "cell_type": "markdown",
      "source": [
        "15. Given a string s and a dictionary of words, check if s can be segmented into a space-separated sequence of one or more dictionary words.\n",
        "   - Input: s = \"leetcode\", wordDict = [\"leet\", \"code\"]\n"
      ],
      "metadata": {
        "id": "NWM1sNlCYF4S"
      }
    },
    {
      "cell_type": "code",
      "source": [
        "def word_break(s, wordDict):\n",
        "    word_set = set(wordDict)\n",
        "    dp = [False] * (len(s) + 1)\n",
        "    dp[0] = True\n",
        "\n",
        "    for i in range(1, len(s) + 1):\n",
        "        for j in range(i):\n",
        "            if dp[j] and s[j:i] in word_set:\n",
        "                dp[i] = True\n",
        "                break\n",
        "\n",
        "    return dp[len(s)]\n",
        "\n",
        "# Example\n",
        "s = \"leetcode\"\n",
        "wordDict = [\"leet\", \"code\"]\n",
        "print(word_break(s, wordDict))\n"
      ],
      "metadata": {
        "colab": {
          "base_uri": "https://localhost:8080/"
        },
        "id": "Aig2J_FSYK1D",
        "outputId": "5c1bc9d3-1f3b-49f7-8dd2-b19008a0f97e"
      },
      "execution_count": null,
      "outputs": [
        {
          "output_type": "stream",
          "name": "stdout",
          "text": [
            "True\n"
          ]
        }
      ]
    },
    {
      "cell_type": "markdown",
      "source": [
        "16. Remove the minimum number of invalid parentheses to make the input string valid. Return all possible results.\n",
        "   - Input: \"()())()\"\n"
      ],
      "metadata": {
        "id": "GtK8tg9uYLUN"
      }
    },
    {
      "cell_type": "code",
      "source": [
        "from collections import deque\n",
        "\n",
        "def is_valid_parentheses(s):\n",
        "    count = 0\n",
        "    for char in s:\n",
        "        if char == '(':\n",
        "            count += 1\n",
        "        elif char == ')':\n",
        "            count -= 1\n",
        "        if count < 0:\n",
        "            return False\n",
        "    return count == 0\n",
        "\n",
        "def remove_invalid_parentheses(s):\n",
        "    if not s:\n",
        "        return [\"\"]\n",
        "\n",
        "    visited = set([s])\n",
        "    queue = deque([s])\n",
        "    result = []\n",
        "    found = False\n",
        "\n",
        "    while queue:\n",
        "        current = queue.popleft()\n",
        "\n",
        "        if is_valid_parentheses(current):\n",
        "            result.append(current)\n",
        "            found = True\n",
        "\n",
        "        if found:\n",
        "            continue\n",
        "\n",
        "        for i in range(len(current)):\n",
        "            if current[i] not in '()':\n",
        "                continue\n",
        "            next_str = current[:i] + current[i+1:]\n",
        "            if next_str not in visited:\n",
        "                visited.add(next_str)\n",
        "                queue.append(next_str)\n",
        "\n",
        "    return result\n",
        "\n",
        "# Example\n",
        "s = \"()())()\"\n",
        "print(remove_invalid_parentheses(s))"
      ],
      "metadata": {
        "colab": {
          "base_uri": "https://localhost:8080/"
        },
        "id": "8RwSMcK0Y3Lb",
        "outputId": "d8120ddb-49e2-4459-f8e8-aa773bc05f0e"
      },
      "execution_count": null,
      "outputs": [
        {
          "output_type": "stream",
          "name": "stdout",
          "text": [
            "['(())()', '()()()']\n"
          ]
        }
      ]
    },
    {
      "cell_type": "code",
      "source": [],
      "metadata": {
        "id": "PxyiXxX2Y60I"
      },
      "execution_count": null,
      "outputs": []
    }
  ]
}